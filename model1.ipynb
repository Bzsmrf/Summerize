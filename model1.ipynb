{
 "cells": [
  {
   "cell_type": "code",
   "execution_count": 1,
   "metadata": {},
   "outputs": [
    {
     "name": "stdout",
     "output_type": "stream",
     "text": [
      "Requirement already satisfied: langchain in c:\\python36\\lib\\site-packages (0.0.27)\n",
      "Requirement already satisfied: sqlalchemy in c:\\python36\\lib\\site-packages (from langchain) (1.4.47)\n",
      "Requirement already satisfied: pydantic in c:\\python36\\lib\\site-packages (from langchain) (1.9.2)\n",
      "Requirement already satisfied: pyyaml in c:\\python36\\lib\\site-packages (from langchain) (6.0)\n",
      "Requirement already satisfied: numpy in c:\\python36\\lib\\site-packages (from langchain) (1.19.5)\n",
      "Requirement already satisfied: requests in c:\\python36\\lib\\site-packages (from langchain) (2.27.1)\n",
      "Requirement already satisfied: dataclasses>=0.6 in c:\\python36\\lib\\site-packages (from pydantic->langchain) (0.8)\n",
      "Requirement already satisfied: typing-extensions>=3.7.4.3 in c:\\python36\\lib\\site-packages (from pydantic->langchain) (4.1.1)\n",
      "Requirement already satisfied: certifi>=2017.4.17 in c:\\python36\\lib\\site-packages (from requests->langchain) (2022.12.7)\n",
      "Requirement already satisfied: idna<4,>=2.5 in c:\\python36\\lib\\site-packages (from requests->langchain) (3.4)\n",
      "Requirement already satisfied: urllib3<1.27,>=1.21.1 in c:\\python36\\lib\\site-packages (from requests->langchain) (1.26.15)\n",
      "Requirement already satisfied: charset-normalizer~=2.0.0 in c:\\python36\\lib\\site-packages (from requests->langchain) (2.0.12)\n",
      "Requirement already satisfied: importlib-metadata in c:\\python36\\lib\\site-packages (from sqlalchemy->langchain) (4.8.3)\n",
      "Requirement already satisfied: greenlet!=0.4.17 in c:\\python36\\lib\\site-packages (from sqlalchemy->langchain) (2.0.2)\n",
      "Requirement already satisfied: zipp>=0.5 in c:\\python36\\lib\\site-packages (from importlib-metadata->sqlalchemy->langchain) (3.6.0)\n",
      "Requirement already satisfied: openai in c:\\python36\\lib\\site-packages (0.8.0)\n",
      "Requirement already satisfied: requests>=2.20 in c:\\python36\\lib\\site-packages (from openai) (2.27.1)\n",
      "Requirement already satisfied: tqdm in c:\\python36\\lib\\site-packages (from openai) (4.64.1)\n",
      "Requirement already satisfied: idna<4,>=2.5 in c:\\python36\\lib\\site-packages (from requests>=2.20->openai) (3.4)\n",
      "Requirement already satisfied: charset-normalizer~=2.0.0 in c:\\python36\\lib\\site-packages (from requests>=2.20->openai) (2.0.12)\n",
      "Requirement already satisfied: certifi>=2017.4.17 in c:\\python36\\lib\\site-packages (from requests>=2.20->openai) (2022.12.7)\n",
      "Requirement already satisfied: urllib3<1.27,>=1.21.1 in c:\\python36\\lib\\site-packages (from requests>=2.20->openai) (1.26.15)\n",
      "Requirement already satisfied: importlib-resources in c:\\python36\\lib\\site-packages (from tqdm->openai) (5.4.0)\n",
      "Requirement already satisfied: colorama in c:\\python36\\lib\\site-packages (from tqdm->openai) (0.4.5)\n",
      "Requirement already satisfied: zipp>=3.1.0 in c:\\python36\\lib\\site-packages (from importlib-resources->tqdm->openai) (3.6.0)\n",
      "Requirement already satisfied: PyPDF2 in c:\\python36\\lib\\site-packages (3.0.1)\n",
      "Requirement already satisfied: dataclasses in c:\\python36\\lib\\site-packages (from PyPDF2) (0.8)\n",
      "Requirement already satisfied: typing_extensions>=3.10.0.0 in c:\\python36\\lib\\site-packages (from PyPDF2) (4.1.1)\n",
      "Collecting faiss-cpu\n",
      "  Using cached faiss-cpu-1.7.3.tar.gz (48 kB)\n",
      "  Installing build dependencies: started\n",
      "  Installing build dependencies: finished with status 'done'\n",
      "  Getting requirements to build wheel: started\n",
      "  Getting requirements to build wheel: finished with status 'done'\n",
      "  Preparing metadata (pyproject.toml): started\n",
      "  Preparing metadata (pyproject.toml): finished with status 'done'\n",
      "Building wheels for collected packages: faiss-cpu\n",
      "  Building wheel for faiss-cpu (pyproject.toml): started\n",
      "  Building wheel for faiss-cpu (pyproject.toml): finished with status 'error'\n",
      "Failed to build faiss-cpu\n"
     ]
    },
    {
     "name": "stderr",
     "output_type": "stream",
     "text": [
      "  ERROR: Command errored out with exit status 1:\n",
      "   command: 'c:\\python36\\python.exe' 'c:\\python36\\lib\\site-packages\\pip\\_vendor\\pep517\\in_process\\_in_process.py' build_wheel 'C:\\Users\\Lenovo\\AppData\\Local\\Temp\\tmpcehedd87'\n",
      "       cwd: C:\\Users\\Lenovo\\AppData\\Local\\Temp\\pip-install-os4x5e93\\faiss-cpu_3c3eb0b393fc40dfad54e15631034089\n",
      "  Complete output (8 lines):\n",
      "  running bdist_wheel\n",
      "  running build\n",
      "  running build_py\n",
      "  running build_ext\n",
      "  building 'faiss._swigfaiss' extension\n",
      "  swigging faiss\\faiss\\python\\swigfaiss.i to faiss\\faiss\\python\\swigfaiss_wrap.cpp\n",
      "  swig.exe -python -c++ -Doverride= -I/usr/local/include -Ifaiss -doxygen -DSWIGWIN -module swigfaiss -o faiss\\faiss\\python\\swigfaiss_wrap.cpp faiss\\faiss\\python\\swigfaiss.i\n",
      "  error: command 'swig.exe' failed: No such file or directory\n",
      "  ----------------------------------------\n",
      "  ERROR: Failed building wheel for faiss-cpu\n",
      "ERROR: Could not build wheels for faiss-cpu, which is required to install pyproject.toml-based projects\n",
      "ERROR: Could not find a version that satisfies the requirement tiktoken (from versions: none)\n",
      "ERROR: No matching distribution found for tiktoken\n"
     ]
    }
   ],
   "source": [
    "!pip install langchain\n",
    "!pip install openai\n",
    "!pip install PyPDF2\n",
    "!pip install faiss-cpu\n",
    "!pip install tiktoken"
   ]
  }
 ],
 "metadata": {
  "kernelspec": {
   "display_name": "Python 3",
   "language": "python",
   "name": "python3"
  },
  "language_info": {
   "codemirror_mode": {
    "name": "ipython",
    "version": 3
   },
   "file_extension": ".py",
   "mimetype": "text/x-python",
   "name": "python",
   "nbconvert_exporter": "python",
   "pygments_lexer": "ipython3",
   "version": "3.6.2"
  },
  "orig_nbformat": 4
 },
 "nbformat": 4,
 "nbformat_minor": 2
}
